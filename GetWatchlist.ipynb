{
 "cells": [
  {
   "cell_type": "code",
   "execution_count": 1,
   "id": "9d1bc469",
   "metadata": {},
   "outputs": [],
   "source": [
    "import requests\n",
    "import re\n",
    "from bs4 import BeautifulSoup\n",
    "from selenium import webdriver\n",
    "from selenium.webdriver.common.keys import Keys\n",
    "import time\n",
    "import json\n",
    "import pandas as pd\n",
    "import datetime"
   ]
  },
  {
   "cell_type": "code",
   "execution_count": 2,
   "id": "83e90611",
   "metadata": {},
   "outputs": [
    {
     "name": "stderr",
     "output_type": "stream",
     "text": [
      "/Users/quangluong/opt/anaconda3/envs/trading/lib/python3.7/site-packages/ipykernel_launcher.py:2: DeprecationWarning: executable_path has been deprecated, please pass in a Service object\n",
      "  \n"
     ]
    }
   ],
   "source": [
    "# initiating the webdriver. Parameter includes the path of the webdriver.\n",
    "driver = webdriver.Chrome('./assets/chromedriver') "
   ]
  },
  {
   "cell_type": "code",
   "execution_count": 3,
   "id": "4f11a4dc",
   "metadata": {},
   "outputs": [],
   "source": [
    "def getHTMLContent(URL):\n",
    "    driver.get(URL)\n",
    "    \n",
    "    # this is just to ensure that the page is loaded\n",
    "    time.sleep(5)\n",
    "    \n",
    "    html = driver.page_source\n",
    "    soup = BeautifulSoup(html, 'html.parser')\n",
    "    return soup"
   ]
  },
  {
   "cell_type": "code",
   "execution_count": 5,
   "id": "f1c544a7",
   "metadata": {},
   "outputs": [],
   "source": [
    "def main():\n",
    "    URL = \"https://www.benzinga.com/category/article-type/top-gainers\"\n",
    "    content = getHTMLContent(URL)"
   ]
  },
  {
   "cell_type": "code",
   "execution_count": 6,
   "id": "031a3a8c",
   "metadata": {},
   "outputs": [],
   "source": [
    "URL = \"https://www.benzinga.com/category/article-type/top-gainers\"\n",
    "content = getHTMLContent(URL)"
   ]
  },
  {
   "cell_type": "code",
   "execution_count": 7,
   "id": "6fbe56b9",
   "metadata": {},
   "outputs": [],
   "source": [
    "def extract_using_regex_safe(pattern, text):\n",
    "    candidates = re.findall(pattern, text)\n",
    "    if len(candidates) == 0:\n",
    "        raise Exception(f\"Cannot find text matching pattern: {pattern}\")\n",
    "    elif len(candidates) > 1:\n",
    "        print(f\"WARNING: More than 1 found. Please avoid this function!\")\n",
    "    else:\n",
    "        return candidates[0]"
   ]
  },
  {
   "cell_type": "code",
   "execution_count": 8,
   "id": "418bc9cf",
   "metadata": {},
   "outputs": [],
   "source": [
    "def get_element_safe(source, tag, class_=None, recursive=True):\n",
    "    if class_ is None:\n",
    "        filtered = source.find_all(tag, recursive=recursive)\n",
    "    else:\n",
    "        filtered = source.find_all(tag, class_=class_, recursive=recursive)\n",
    "    if len(filtered) == 0:\n",
    "        raise Exception(f\"Cannot find element: <{tag} class='{class_}'></{tag}>\")\n",
    "    elif len(filtered) > 1:\n",
    "        print(f\"WARNING: More than 1 element found. Please avoid this function!\")\n",
    "    else:\n",
    "        return filtered[0]"
   ]
  },
  {
   "cell_type": "code",
   "execution_count": 9,
   "id": "a79e529d",
   "metadata": {},
   "outputs": [],
   "source": [
    "posts_container = get_element_safe(content, 'div', \"benzinga-articles benzinga-articles-mixed\")"
   ]
  },
  {
   "cell_type": "code",
   "execution_count": 10,
   "id": "fce9a4f3",
   "metadata": {},
   "outputs": [],
   "source": [
    "posts = posts_container.find_all('li', recursive=True)"
   ]
  },
  {
   "cell_type": "code",
   "execution_count": 16,
   "id": "81240a76",
   "metadata": {},
   "outputs": [
    {
     "data": {
      "text/plain": [
       "'Wednesday'"
      ]
     },
     "execution_count": 16,
     "metadata": {},
     "output_type": "execute_result"
    }
   ],
   "source": [
    "datetime.datetime.now().strftime('%A')"
   ]
  },
  {
   "cell_type": "code",
   "execution_count": 13,
   "id": "ffc39427",
   "metadata": {
    "scrolled": true
   },
   "outputs": [
    {
     "name": "stdout",
     "output_type": "stream",
     "text": [
      "34 Stocks Moving In Wednesday's Mid-Day Session https://www.benzinga.com/news/21/08/22560432/34-stocks-moving-in-wednesdays-mid-day-session\n",
      "22 Stocks Moving in Wednesday's Pre-Market Session https://www.benzinga.com/news/21/08/22552951/22-stocks-moving-in-wednesdays-pre-market-session\n",
      "48 Stocks Moving In Tuesday's Mid-Day Session https://www.benzinga.com/news/21/08/22539235/48-stocks-moving-in-tuesdays-mid-day-session\n",
      "25 Stocks Moving in Tuesday's Pre-Market Session https://www.benzinga.com/news/21/08/22530681/25-stocks-moving-in-tuesdays-pre-market-session\n",
      "38 Stocks Moving In Monday's Mid-Day Session https://www.benzinga.com/news/21/08/22515398/38-stocks-moving-in-mondays-mid-day-session\n",
      "24 Stocks Moving in Monday's Pre-Market Session https://www.benzinga.com/news/21/08/22507007/24-stocks-moving-in-mondays-pre-market-session\n"
     ]
    }
   ],
   "source": [
    "for i in range(2):\n",
    "    URL = f\"https://www.benzinga.com/category/article-type/top-gainers?page={i}\"\n",
    "    content = getHTMLContent(URL)\n",
    "    posts_container = get_element_safe(content, 'div', \"benzinga-articles benzinga-articles-mixed\")\n",
    "    posts = posts_container.find_all('li', recursive=True)\n",
    "    for post in posts:\n",
    "        try:\n",
    "            title_container = get_element_safe(post, 'h3')\n",
    "            title_elem = get_element_safe(title_container, \"a\")\n",
    "            title = extract_using_regex_safe(\"[0-9]{2}.Stocks Moving [^0-9]+$\", title_elem.text)\n",
    "            URL = f\"https://www.benzinga.com{title_elem['href']}\"\n",
    "            print(title, URL)\n",
    "        except:\n",
    "            continue"
   ]
  },
  {
   "cell_type": "code",
   "execution_count": 19,
   "id": "2f251f1b",
   "metadata": {},
   "outputs": [
    {
     "name": "stdout",
     "output_type": "stream",
     "text": [
      "['https://www.benzinga.com/news/21/08/22539235/48-stocks-moving-in-tuesdays-mid-day-session', 'https://www.benzinga.com/news/21/08/22530681/25-stocks-moving-in-tuesdays-pre-market-session', 'https://www.benzinga.com/news/21/08/22515398/38-stocks-moving-in-mondays-mid-day-session', 'https://www.benzinga.com/news/21/08/22507007/24-stocks-moving-in-mondays-pre-market-session']\n"
     ]
    }
   ],
   "source": [
    "links = []\n",
    "for i in range(3):\n",
    "    URL = f\"https://www.benzinga.com/category/article-type/top-gainers?page={i}\"\n",
    "    content = getHTMLContent(URL)\n",
    "    posts_container = get_element_safe(\n",
    "        content, \"div\", \"benzinga-articles benzinga-articles-mixed\"\n",
    "    )\n",
    "    posts = posts_container.find_all(\"li\", recursive=True)\n",
    "    for post in posts:\n",
    "        try:\n",
    "            title_container = get_element_safe(post, \"h3\")\n",
    "            title_elem = get_element_safe(title_container, \"a\")\n",
    "            title = extract_using_regex_safe(\n",
    "                \"[0-9]{2}.Stocks Moving [^0-9]+$\", title_elem.text\n",
    "            )\n",
    "            URL = f\"https://www.benzinga.com{title_elem['href']}\"\n",
    "            links.append([title, URL])\n",
    "        except Exception:\n",
    "            continue\n",
    "\n",
    "current_date = datetime.datetime.now()\n",
    "weekday_human_text = current_date.strftime(\"%A\")\n",
    "links = list(\n",
    "    filter(lambda x: weekday_human_text.lower() not in x[0].lower(), links)\n",
    ")\n",
    "\n",
    "links = links[:4]\n",
    "result = list(map(lambda x: x[1], links))\n",
    "print(result)"
   ]
  },
  {
   "cell_type": "code",
   "execution_count": 20,
   "id": "b3339b9b",
   "metadata": {},
   "outputs": [
    {
     "name": "stdout",
     "output_type": "stream",
     "text": [
      "['https://www.benzinga.com/news/21/08/22539235/48-stocks-moving-in-tuesdays-mid-day-session', 'https://www.benzinga.com/news/21/08/22530681/25-stocks-moving-in-tuesdays-pre-market-session', 'https://www.benzinga.com/news/21/08/22515398/38-stocks-moving-in-mondays-mid-day-session', 'https://www.benzinga.com/news/21/08/22507007/24-stocks-moving-in-mondays-pre-market-session']\n"
     ]
    }
   ],
   "source": [
    "links = links[:4]\n",
    "result = list(map(lambda x: x[1], links))\n",
    "print(result)"
   ]
  },
  {
   "cell_type": "code",
   "execution_count": 93,
   "id": "eb7c0848",
   "metadata": {},
   "outputs": [],
   "source": [
    "URL = \"https://www.benzinga.com/news/21/08/22539235/48-stocks-moving-in-tuesdays-mid-day-session\"\n",
    "content = getHTMLContent(URL)"
   ]
  },
  {
   "cell_type": "code",
   "execution_count": 94,
   "id": "6a32c311",
   "metadata": {},
   "outputs": [],
   "source": [
    "stocks_container = get_element_safe(content, \"div\", \"article-content-body-only\")"
   ]
  },
  {
   "cell_type": "code",
   "execution_count": 95,
   "id": "ebc18323",
   "metadata": {},
   "outputs": [],
   "source": [
    "stocks = stocks_container.find_all('li', recursive=True)"
   ]
  },
  {
   "cell_type": "code",
   "execution_count": 97,
   "id": "89903dab",
   "metadata": {},
   "outputs": [],
   "source": [
    "BULL_VERBS = [\"jumped\", \"climbed\", \"surged\", \"gained\", \"rose\"]\n",
    "BEAR_VERBS = [\"dipped\", \"fell\", \"dropped\", \"declined\", \"tumbled\"]\n",
    "DIRECTION_VERBS = BULL_VERBS + BEAR_VERBS\n",
    "\n",
    "for stock in stocks:    \n",
    "    ticker_elem = get_element_safe(stock, tag='a', class_=\"ticker bztwwidgethover\")\n",
    "    \n",
    "    ticker = extract_using_regex_safe(\"[A-Z]{1,5}(?:\\s*\\d{6}[PC]\\d{8})?\", ticker_elem.text)\n",
    "    gap_candidates = extract_using_regex_safe(f\"({'|'.join(DIRECTION_VERBS)}) (\\d*\\.?\\d+%?)\", stock.text)\n",
    "    \n",
    "    isGoingUp = gap_candidates[0] in BULL_VERBS\n",
    "    gap = float(gap_candidates[1].replace(\"%\", \"\"))\n",
    "    \n",
    "#     print(ticker, isGoingUp, gap)"
   ]
  },
  {
   "cell_type": "code",
   "execution_count": 98,
   "id": "736b1d2c",
   "metadata": {},
   "outputs": [
    {
     "name": "stdout",
     "output_type": "stream",
     "text": [
      "48\n"
     ]
    }
   ],
   "source": [
    "print(len(stocks))"
   ]
  },
  {
   "cell_type": "code",
   "execution_count": 99,
   "id": "4c821f90",
   "metadata": {},
   "outputs": [],
   "source": [
    "def get_tickers_from_cap_list(cap_name):\n",
    "    df = pd.read_csv(f'assets/{cap_name.upper()}.csv')\n",
    "    all_symbols = df['Symbol']\n",
    "    \n",
    "    return all_symbols.tolist()"
   ]
  },
  {
   "cell_type": "code",
   "execution_count": 100,
   "id": "251d69c5",
   "metadata": {},
   "outputs": [],
   "source": [
    "MARKET_CAPS = [\"MEGA\", \"LARGE\", \"MEDIUM\"]\n",
    "tickers = []\n",
    "for market_cap in MARKET_CAPS:\n",
    "    tickers += get_tickers_from_cap_list(market_cap)"
   ]
  },
  {
   "cell_type": "code",
   "execution_count": 101,
   "id": "fb33ed96",
   "metadata": {},
   "outputs": [
    {
     "data": {
      "text/plain": [
       "863"
      ]
     },
     "execution_count": 101,
     "metadata": {},
     "output_type": "execute_result"
    }
   ],
   "source": [
    "len(tickers)"
   ]
  },
  {
   "cell_type": "code",
   "execution_count": null,
   "id": "f7481abf",
   "metadata": {},
   "outputs": [],
   "source": []
  }
 ],
 "metadata": {
  "kernelspec": {
   "display_name": "Python [conda env:trading]",
   "language": "python",
   "name": "conda-env-trading-py"
  },
  "language_info": {
   "codemirror_mode": {
    "name": "ipython",
    "version": 3
   },
   "file_extension": ".py",
   "mimetype": "text/x-python",
   "name": "python",
   "nbconvert_exporter": "python",
   "pygments_lexer": "ipython3",
   "version": "3.7.11"
  }
 },
 "nbformat": 4,
 "nbformat_minor": 5
}
